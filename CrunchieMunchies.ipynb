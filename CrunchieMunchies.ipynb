{
 "cells": [
  {
   "cell_type": "markdown",
   "metadata": {},
   "source": [
    "Scenario: A food company YummyCorps is developing a new kind of tasty, wholesome cereal called CrunchieMunchies.There're 60 calories per serving. The company wants to demonstrate to consumers how healthy CrunchieMunchies is in comparison to other leading brands. The reported calorie amounts for different cereal brands are stored in calories dataframe. \n",
    "\n",
    "The task is to prove that CrunchieMunchies cereal is the healthiest choice for consumers."
   ]
  },
  {
   "cell_type": "code",
   "execution_count": 1,
   "metadata": {},
   "outputs": [],
   "source": [
    "import numpy as np"
   ]
  },
  {
   "cell_type": "code",
   "execution_count": 2,
   "metadata": {},
   "outputs": [],
   "source": [
    "calories=[70, 120, 70, 50, 110 , 110, 110, 130, 90, 90, 120, 110, 120, 110, 110, 110, 100, 110, 110, 110, 100, 110, 100, 100, 110, 110, 100, 120, 120, 110, 100, 110, 100, 110, 120, 120, 110, 110, 110, 140, 110, 100, 110, 100, 150, 150, 160, 100, 120, 140, 90, 130, 120, 100, 50, 50, 100, 100, 120, 100, 90, 110, 110, 80, 90, 90, 110, 110, 90, 110, 140, 100, 110, 110, 100, 100, 110]"
   ]
  },
  {
   "cell_type": "code",
   "execution_count": 3,
   "metadata": {},
   "outputs": [],
   "source": [
    "caloriesv2=np.array(calories)"
   ]
  },
  {
   "cell_type": "code",
   "execution_count": 12,
   "metadata": {},
   "outputs": [
    {
     "name": "stdout",
     "output_type": "stream",
     "text": [
      "106.88311688311688\n",
      "[ 50  50  50  70  70  80  90  90  90  90  90  90  90 100 100 100 100 100\n",
      " 100 100 100 100 100 100 100 100 100 100 100 100 110 110 110 110 110 110\n",
      " 110 110 110 110 110 110 110 110 110 110 110 110 110 110 110 110 110 110\n",
      " 110 110 110 110 110 120 120 120 120 120 120 120 120 120 120 130 130 140\n",
      " 140 140 150 150 160]\n",
      "110.0\n",
      "19.35718533390827\n"
     ]
    }
   ],
   "source": [
    "average_calories=np.mean(caloriesv2)\n",
    "calories_sorted=np.sort(caloriesv2)\n",
    "median_calories= np.median(caloriesv2)\n",
    "calorie_std= np.std(caloriesv2)\n",
    "\n",
    "\n",
    "print(average_calories)\n",
    "print(calories_sorted)\n",
    "print(median_calories)\n",
    "print(calorie_std)"
   ]
  },
  {
   "cell_type": "markdown",
   "metadata": {},
   "source": [
    "Clearly, CrunchieMunchies is lower than most brands in terms of calories."
   ]
  },
  {
   "cell_type": "code",
   "execution_count": 9,
   "metadata": {},
   "outputs": [
    {
     "name": "stdout",
     "output_type": "stream",
     "text": [
      "70.0\n",
      "0.961038961038961\n"
     ]
    }
   ],
   "source": [
    "nth_percentile= np.percentile(caloriesv2, 4)\n",
    "print(nth_percentile)\n",
    "more_calories= np.mean(caloriesv2>60)\n",
    "print(more_calories)"
   ]
  },
  {
   "cell_type": "markdown",
   "metadata": {},
   "source": [
    "To be more specific, CrunchieMunchies is at the 4th percentile in terms of calories. It has lower calories than 96% of cereal brands.The low calorie amount is a key avantage of CrunchieMunchies. YummyCorps should incorporate the 'lower calories than 96% of cereal brands\" stats in its marketing campaigns to promote CrunchieMunchies."
   ]
  }
 ],
 "metadata": {
  "kernelspec": {
   "display_name": "Python 3",
   "language": "python",
   "name": "python3"
  },
  "language_info": {
   "codemirror_mode": {
    "name": "ipython",
    "version": 3
   },
   "file_extension": ".py",
   "mimetype": "text/x-python",
   "name": "python",
   "nbconvert_exporter": "python",
   "pygments_lexer": "ipython3",
   "version": "3.7.6"
  }
 },
 "nbformat": 4,
 "nbformat_minor": 4
}
