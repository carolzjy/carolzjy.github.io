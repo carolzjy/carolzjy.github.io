{
 "cells": [
  {
   "cell_type": "markdown",
   "metadata": {},
   "source": [
    "Over the course of the past few centuries, technological and medical advancements have helped increase the life expectancy of humans. However, as of now, the average life expectancy of humans varies depending on what country you live in.\n",
    "\n",
    "This project investigates a dataset containing information about the average life expectancy in 158 different countries, and to specifically look at how a country’s economic success might impact the life expectancy in that area."
   ]
  },
  {
   "cell_type": "code",
   "execution_count": 1,
   "metadata": {},
   "outputs": [],
   "source": [
    "import numpy as np\n",
    "import pandas as pd\n",
    "import matplotlib.pyplot as plt"
   ]
  },
  {
   "cell_type": "code",
   "execution_count": 7,
   "metadata": {},
   "outputs": [
    {
     "name": "stdout",
     "output_type": "stream",
     "text": [
      "               Country  Life Expectancy          GDP\n",
      "0          Afghanistan         58.19375   340.015425\n",
      "1              Albania         75.15625  2119.726679\n",
      "2              Algeria         73.61875  2847.853392\n",
      "3               Angola         49.01875  1975.143045\n",
      "4  Antigua and Barbuda         75.05625  9759.305728\n"
     ]
    }
   ],
   "source": [
    "data=pd.read_csv(\"C:/Users/carol/Desktop/Life Expectancy.csv\")\n",
    "print(data.head())"
   ]
  },
  {
   "cell_type": "code",
   "execution_count": 8,
   "metadata": {},
   "outputs": [
    {
     "name": "stdout",
     "output_type": "stream",
     "text": [
      "[62.325     72.525     75.4421875]\n"
     ]
    }
   ],
   "source": [
    "life_expectancy= data[\"Life Expectancy\"]\n",
    "\n",
    "life_expectancy_quartiles= np.quantile(life_expectancy, [0.25, 0.5, 0.75])\n",
    "\n",
    "print(life_expectancy_quartiles)"
   ]
  },
  {
   "cell_type": "code",
   "execution_count": 9,
   "metadata": {},
   "outputs": [
    {
     "data": {
      "image/png": "[encoded data removed]",
      "text/plain": [
       "<Figure size 432x288 with 1 Axes>"
      ]
     },
     "metadata": {
      "needs_background": "light"
     },
     "output_type": "display_data"
    }
   ],
   "source": [
    "plt.hist(life_expectancy)\n",
    "plt.show()"
   ]
  },
  {
   "cell_type": "markdown",
   "metadata": {},
   "source": [
    "It seems like half of the data lie between 62.3 and 75.4, and a quarter between 72.5 and 75.4. "
   ]
  },
  {
   "cell_type": "code",
   "execution_count": 12,
   "metadata": {},
   "outputs": [
    {
     "name": "stdout",
     "output_type": "stream",
     "text": [
      "2938.0781155000004\n",
      "[56.3375  64.34375 71.7375 ]\n",
      "[72.965625 75.15625  80.521875]\n"
     ]
    }
   ],
   "source": [
    "GDP= data[\"GDP\"]\n",
    "print(np.median(GDP))\n",
    "median_gdp= np.quantile(GDP, 0.5)\n",
    "\n",
    "low_gdp= data[data.GDP<= median_gdp]\n",
    "high_gdp= data[data.GDP> median_gdp]\n",
    "\n",
    "low_gdp_quartiles= np.quantile(low_gdp[\"Life Expectancy\"], [0.25, 0.5, 0.75])\n",
    "high_gdp_quartiles= np.quantile(high_gdp[\"Life Expectancy\"], [0.25, 0.5, 0.75])\n",
    "\n",
    "print(low_gdp_quartiles)\n",
    "print(high_gdp_quartiles)"
   ]
  },
  {
   "cell_type": "markdown",
   "metadata": {},
   "source": [
    "GDP is a mesaure of a country’s wealth. Is life expectancy affected by GDP value? First let's split the data into two groups based on GDP."
   ]
  },
  {
   "cell_type": "code",
   "execution_count": 13,
   "metadata": {},
   "outputs": [
    {
     "data": {
      "image/png": "[encoded data removed]",
      "text/plain": [
       "<Figure size 432x288 with 1 Axes>"
      ]
     },
     "metadata": {
      "needs_background": "light"
     },
     "output_type": "display_data"
    }
   ],
   "source": [
    "plt.hist(high_gdp[\"Life Expectancy\"], alpha = 0.5, label = \"High GDP\")\n",
    "plt.hist(low_gdp[\"Life Expectancy\"], alpha = 0.5, label = \"Low GDP\")\n",
    "plt.legend()\n",
    "plt.show()"
   ]
  },
  {
   "cell_type": "markdown",
   "metadata": {},
   "source": [
    "The quantiles and histogram gives a sense of the spread and central tendency of these two datasets. Over 75% of the Countries with high GDP have higher life expectancy. Life expectancy and GDP are largely correlated. "
   ]
  }
 ],
 "metadata": {
  "kernelspec": {
   "display_name": "Python 3",
   "language": "python",
   "name": "python3"
  },
  "language_info": {
   "codemirror_mode": {
    "name": "ipython",
    "version": 3
   },
   "file_extension": ".py",
   "mimetype": "text/x-python",
   "name": "python",
   "nbconvert_exporter": "python",
   "pygments_lexer": "ipython3",
   "version": "3.7.6"
  }
 },
 "nbformat": 4,
 "nbformat_minor": 4
}
